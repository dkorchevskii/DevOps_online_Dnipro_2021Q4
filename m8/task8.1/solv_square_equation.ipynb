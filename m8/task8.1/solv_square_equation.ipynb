{
  "nbformat": 4,
  "nbformat_minor": 0,
  "metadata": {
    "colab": {
      "name": "solv_square_equation.ipynb",
      "provenance": [],
      "collapsed_sections": []
    },
    "kernelspec": {
      "name": "python3",
      "display_name": "Python 3"
    },
    "language_info": {
      "name": "python"
    }
  },
  "cells": [
    {
      "cell_type": "markdown",
      "source": [
        "# Module Python Essentials\n",
        "### TASK - 01.\n",
        "---\n",
        "Реализовать скрипт, который решает квадратное уравнение вида:\n",
        "$$ax^2 + bx + c = 0$$\n",
        "Параметры квадратного уравнения (𝑎, 𝑏, 𝑐) задаются вводом или через аргументы командной строки. В скрипте реализовать несколько функций, которые декомпозируют задачу решения квадратного уравнения. В эти функции должны передаваться параметры. Также на эти функций написать UnitTests.\n",
        "\n",
        "Основной скрипт solv_square_equation.py должен иметь следующие функции:\n",
        "   -   main()\n",
        "   -   validate_param(int) - проверяет, что введено число, повторяет ввод 3 раза если не число (использовать exception)\n",
        "   -   **discriminant(a, b, c)**\n",
        "   -   **roots(d, a, b, c)**\n",
        "   -   **solv_square(a, b, c) -> roots**\n",
        "   -   square_print(a, b, c, roots) – выводит на экран результат\n",
        "\n",
        "На выделенные написать UnitTest (discriminant, roots, solv_square). \n",
        "\n",
        "Не использовать глобальные переменные.\n",
        "\n",
        "\\* Реализовать возврат exit_code из скрипта, в котором должна кодироваться ошибка. Количество возможных ошибок определить самостоятельно. \n",
        "Разрешено использовать глобальные переменные (константы), которые записываются большими буквами и слова разделены “_” (Пример: SUCCESS_EXIT=0). Эти переменные можно использовать только в методе main().\n"
      ],
      "metadata": {
        "id": "VcJl0B5YugnS"
      }
    },
    {
      "cell_type": "code",
      "source": [
        "import sys\n",
        "from math import sqrt as m_sqrt\n",
        "from cmath import sqrt as cm_sqrt"
      ],
      "metadata": {
        "id": "WfpAOinrzBtW"
      },
      "execution_count": 1,
      "outputs": []
    },
    {
      "cell_type": "code",
      "source": [
        "INVALID_INPUT_EXIT = 1\n",
        "# SUCCESS_EXIT = 0\n",
        "\n",
        "def validate_param(input_str):\n",
        "  for attempt in range(3):  # 3 input attempts\n",
        "    try:\n",
        "      return int(input_str)\n",
        "    except ValueError:\n",
        "      input_str = input(\"input a number(now)! \")\n",
        "      continue\n",
        "  # raise ValueError(\"input should be a number.\")\n",
        "  return None\n",
        "\n",
        "def discriminant(a, b, c):\n",
        "  return b**2 - 4*a*c\n",
        "\n",
        "def roots(d, a, b, c):\n",
        "  if a is 0:\n",
        "    return None\n",
        "  if d != discriminant(a, b, c):\n",
        "    raise Exception(\"haha, cheeky one! (discriminant is wrong)\")\n",
        "  if d < 0: \n",
        "    sqrt = cm_sqrt  # complex roots support\n",
        "  else: \n",
        "    sqrt = m_sqrt\n",
        "  x1 = (-b + sqrt(d)) / (2 * a)\n",
        "  x2 = (-b - sqrt(d)) / (2 * a)\n",
        "  return (x1, x2)\n",
        "\n",
        "def solv_square(a, b, c):\n",
        "  d = discriminant(a, b, c)\n",
        "  return roots(d, a, b, c)\n",
        "\n",
        "def square_print(a, b, c, solution):\n",
        "  print(f\"Quadratic equation roots are: {solution}\")\n",
        "\n",
        "def main():\n",
        "  # Equation: ax^2 + bx + c = 0\n",
        "  a = validate_param(input(\"input a: \"))\n",
        "  if a in (None, 0):  # a=0 makes it non-quadratic, also can't divide by zero.\n",
        "    sys.exit(INVALID_INPUT_EXIT)\n",
        "  b = validate_param(input(\"input b: \"))\n",
        "  if b is None: \n",
        "    sys.exit(INVALID_INPUT_EXIT)\n",
        "  c = validate_param(input(\"input c: \"))\n",
        "  if c is None: \n",
        "    sys.exit(INVALID_INPUT_EXIT)\n",
        "\n",
        "  solution = solv_square(a, b, c)\n",
        "  if solution is None:\n",
        "    sys.exit(INVALID_INPUT_EXIT)\n",
        "  square_print(a, b, c, solution)\n",
        "  # sys.exit(SUCCESS_EXIT)\n",
        "\n",
        "if __name__ == \"__main__\":\n",
        "\tmain()"
      ],
      "metadata": {
        "id": "QRGzk8xl1aOo",
        "colab": {
          "base_uri": "https://localhost:8080/"
        },
        "outputId": "c46e845c-8c63-4957-a7f3-653720b12321"
      },
      "execution_count": 23,
      "outputs": [
        {
          "output_type": "stream",
          "name": "stdout",
          "text": [
            "input a: 9\n",
            "input b: -6\n",
            "input c: 1\n",
            "Quadratic equation roots are: (0.3333333333333333, 0.3333333333333333)\n"
          ]
        }
      ]
    },
    {
      "cell_type": "code",
      "source": [
        "discriminant(1,1,1)"
      ],
      "metadata": {
        "colab": {
          "base_uri": "https://localhost:8080/"
        },
        "id": "A9CKaK-S3Ntm",
        "outputId": "338f69e5-e418-4fa0-f5fa-c437892e4c4a"
      },
      "execution_count": 20,
      "outputs": [
        {
          "output_type": "execute_result",
          "data": {
            "text/plain": [
              "-3"
            ]
          },
          "metadata": {},
          "execution_count": 20
        }
      ]
    },
    {
      "cell_type": "code",
      "source": [
        "roots(81,-1,7,8)"
      ],
      "metadata": {
        "colab": {
          "base_uri": "https://localhost:8080/"
        },
        "id": "hnxV-ws03hEk",
        "outputId": "8c1517bd-e171-43e6-bc85-9315e79852a5"
      },
      "execution_count": 15,
      "outputs": [
        {
          "output_type": "execute_result",
          "data": {
            "text/plain": [
              "(-1.0, 8.0)"
            ]
          },
          "metadata": {},
          "execution_count": 15
        }
      ]
    },
    {
      "cell_type": "code",
      "source": [
        "solv_square(3,7,-6)"
      ],
      "metadata": {
        "colab": {
          "base_uri": "https://localhost:8080/"
        },
        "id": "ngdnvqhh3-zN",
        "outputId": "e024fe21-2301-4050-8c16-9cfd35a18124"
      },
      "execution_count": 21,
      "outputs": [
        {
          "output_type": "execute_result",
          "data": {
            "text/plain": [
              "(0.6666666666666666, -3.0)"
            ]
          },
          "metadata": {},
          "execution_count": 21
        }
      ]
    }
  ]
}